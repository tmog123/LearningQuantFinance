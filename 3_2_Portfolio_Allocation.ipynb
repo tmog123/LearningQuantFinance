{
 "cells": [
  {
   "cell_type": "markdown",
   "metadata": {},
   "source": [
    "#### Portfolio Allocation ####\n",
    "\n",
    "The classical problem in portfolio allocation concerns how to:\n",
    "\n",
    "* allocate investments to minimize the total variance of a portfolio while\n",
    "\n",
    "* choosing the weights such that the expected returns hit a certain level subject to\n",
    "\n",
    "* several constraints on the portfolio weights."
   ]
  }
 ],
 "metadata": {
  "language_info": {
   "name": "python"
  },
  "orig_nbformat": 4
 },
 "nbformat": 4,
 "nbformat_minor": 2
}
