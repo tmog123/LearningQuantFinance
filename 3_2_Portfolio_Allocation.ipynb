{
 "cells": [
  {
   "attachments": {},
   "cell_type": "markdown",
   "metadata": {},
   "source": [
    "#### Portfolio Allocation ####\n",
    "\n",
    "The classical problem in portfolio allocation concerns how to:\n",
    "\n",
    "* allocate investments to minimize the total variance of a portfolio while\n",
    "\n",
    "* choosing the weights such that the expected returns hit a certain level subject to\n",
    "\n",
    "* several constraints on the portfolio weights.\n",
    "\n",
    "We usually assume that the assets have already been selected and the only problem is how to weigh them. As mentioned in the previous section, the expected return is $\\vec{w}^T E(\\vec{r})$. The variance of a linear portfolio is of the quadratic form $ \\vec{w}^T V \\vec{w} $.\n",
    "\n",
    "For this section, we will not look at how the estimates for risk and return are derived. We will assume that they are given and accurate."
   ]
  },
  {
   "attachments": {},
   "cell_type": "markdown",
   "metadata": {},
   "source": [
    "#### Portfolio Diversification ####\n",
    "\n",
    "Let us use a simple example of two assets, where we are going long (where we will profit if the underlying price goes up). We assume that a proportion $w$ of the nominal amount is invested in asset 1 and $1-w$ is invested in asset 2. The variance is given by:\n",
    "\n",
    "$$\n",
    "V(R) = w^2 \\sigma_1^2 + (1-w)^2 \\sigma_2^2 + 2 \\rho w (1-w) \\sigma_1 \\sigma_2.\n",
    "$$\n",
    "\n",
    "Let us suppose that asset 1 has already been chosen, with the weight $w$ fixed. We still are able to choose asset 2. All the assets we can choose from have the same return volatilities but different correlations with asset 1. One can ask how the correlation will affect the overall portfolio variance. One can get an analytical form by first rewriting the volatility as:\n",
    "\n",
    "$$\n",
    "V(R) = (w \\sigma_1 + (1-w)\\sigma_2)^2 - 2(1-\\rho)w(1-w)\\sigma_1 \\sigma_2.\n",
    "$$\n",
    "\n",
    "This is a linear increasing function of correlation. The minimum value will occur when $\\rho = -1$ and maximum value when $\\rho = 1$. Thus it is easy to obtain analytical bounds for the variance now.\n",
    "\n",
    "Now let us extend this to a portfolio of $n$ risky assets. The variance matrix $V$ can be written as $V = DCD$, where $D$ is the diagonal matrix of standar deviations and $C$ is the correlation matrix of asset returns. We can show that if the asset returns are less than perfectly correlated, the risk from holding a long-only portfolio will be less than the weighted sum of the component risks.\n",
    "\n",
    "We show this by looking at the variance:\n",
    "\n",
    "$$\n",
    "V(R) = \\vec{w}^T V \\vec{w} = \\vec{w}^T DCD \\vec{w} = \\vec{x}^T C \\vec{x},\n",
    "$$\n",
    "\n",
    "where $\\vec{x} = D \\vec{w}$. If we have perfect correlations ($C = \\mathbb{1}$), then this would yield $ w_1 \\sigma_1 + \\dots + w_n \\sigma_n$. If there is no perfect correlation, then $C$ has elements less than 1. In this case it can be shown that $\\vec{x}^T C \\vec{x} < \\mathbb{1}^T C \\mathbb{1}$. This gives an upper bound for the portfolio variance which we derived for two assets previously. This gives the idea of *portfolio diversification*, which is that holding portfolios that are not perfectly correlated reduces the risk relative to the sum of the risks of the individual positions in the assets.\n",
    "\n"
   ]
  },
  {
   "attachments": {},
   "cell_type": "markdown",
   "metadata": {},
   "source": [
    "#### Minimum Variance Portfolios ####\n",
    "\n",
    "We look at the two asset example again, but now with the problem of reducing the variance. In this case, the assets have been chosen, but we need to choose the allocations such that the variance is minimized. For a given correlation $\\rho$, we note that the portfolio volatility is not a monotonic increasing function of $w$. There is a minimum value. One would find this in this case by differentiating $V(w)$ and setting the first derivative to $0$.\n",
    "\n",
    "We want to also note that not all values of $\\rho$ admit non-trivial solutions. For some values of $\\rho$, the optimal strategy might be to allocate everything to only $1$ asset."
   ]
  }
 ],
 "metadata": {
  "kernelspec": {
   "display_name": "Python 3",
   "language": "python",
   "name": "python3"
  },
  "language_info": {
   "name": "python",
   "version": "3.9.5 (tags/v3.9.5:0a7dcbd, May  3 2021, 17:27:52) [MSC v.1928 64 bit (AMD64)]"
  },
  "orig_nbformat": 4,
  "vscode": {
   "interpreter": {
    "hash": "1a26e4b7189bf03eb81522675f6e6c88684ba722547c6ad443d3676f771c332f"
   }
  }
 },
 "nbformat": 4,
 "nbformat_minor": 2
}
