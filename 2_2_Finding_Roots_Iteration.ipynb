{
 "cells": [
  {
   "cell_type": "markdown",
   "metadata": {},
   "source": [
    "# Finding Roots through Iteration #\n",
    "\n",
    "\n",
    "Usually, we are interested in finding roots of a non-linear equation $f(x)=0$. They are typically tackled with numerical methods using iterative algorithms."
   ]
  },
  {
   "cell_type": "markdown",
   "metadata": {},
   "source": [
    "#### Method of Bisection ####\n",
    "\n",
    "[Bisection](/images/2_2_bisection.png)"
   ]
  }
 ],
 "metadata": {
  "language_info": {
   "name": "python"
  },
  "orig_nbformat": 4
 },
 "nbformat": 4,
 "nbformat_minor": 2
}
