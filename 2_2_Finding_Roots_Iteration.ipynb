{
 "cells": [
  {
   "cell_type": "markdown",
   "metadata": {},
   "source": [
    "# Finding Roots through Iteration #\n",
    "\n",
    "\n",
    "Usually, we are interested in finding roots of a non-linear equation $f(x)=0$. They are typically tackled with numerical methods using iterative algorithms."
   ]
  },
  {
   "cell_type": "markdown",
   "metadata": {},
   "source": [
    "#### Method of Bisection ####\n",
    "\n",
    "This is the simplest algorithm, but is slow. We usually start by finding 2 values of $x$, $x_1$ and $x_2$, such that $f(x_1)$ and $f(x_2)$ have different signs. Set $I = [x_1,x_2]$. We bisect the interval $I$ by taking the midpoint and evaluating the function at that point. After which, we replace the interval with another that has half the width.\n",
    "\n",
    "Usually, the function $f$ is called the *objective function*, and most algorithms have a *tolerance level* that is related to the *criterion for convergence*. For an algorithm that finds the roots of the equation, it will be deemed to have converged to the solution $x=x^*$ when $|f(x^*)| < T $, where $T$ is the tolerance level. "
   ]
  }
 ],
 "metadata": {
  "language_info": {
   "name": "python"
  },
  "orig_nbformat": 4
 },
 "nbformat": 4,
 "nbformat_minor": 2
}
