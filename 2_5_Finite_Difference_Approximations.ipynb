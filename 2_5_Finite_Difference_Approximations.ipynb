{
 "cells": [
  {
   "attachments": {},
   "cell_type": "markdown",
   "metadata": {},
   "source": [
    "# Finite Difference Approximations #\n",
    "\n",
    "Finite difference approxximations are methods to obtain approximations for derivatives of functions, assuming that the derivatives are hard to analytically obtain. For example, a simple approximation for the first derivative of a function is given as:\n",
    "\n",
    "$$\n",
    "f^\\prime (x) \\approx \\frac{f(x+h)-f(x-h)}{2 h}.\n",
    "$$\n",
    "\n",
    "This is simply the definition of the first derivative, if we take the limit where $h$ goes to 0. This is called the *central finite differences* approximation. \n",
    "\n",
    "One sided finite differences can also be used. For example, the *forward* first order finite difference is:\n",
    "\n",
    "$$\n",
    "f^\\prime (x) \\approx \\frac{f(x+h)-f(x)}{h}.\n",
    "$$\n",
    "\n",
    "One can apply a first order difference method twice to obtain a second order difference approximation:\n",
    "\n",
    "$$\n",
    "f^{\\prime \\prime} (x) \\approx \\frac{f(x+h)-2 f(x) + f(x-h)}{h^2}.\n",
    "$$\n",
    "\n",
    "Later on, when we are using finite difference methods to approximate partial differential equations near boundaries, we can use one-sided approximations to the second derivative:\n",
    "\n",
    "$$\n",
    "f^{\\prime \\prime} (x) \\approx \\frac{f(x+2h)-2 f(x+h) + f(x)}{h^2}.\n",
    "$$"
   ]
  },
  {
   "attachments": {},
   "cell_type": "markdown",
   "metadata": {},
   "source": [
    "#### Finite Difference Solutions to Partial Differential Equations ####\n",
    "\n",
    "Finite difference methods are very useful to solve for solutions to PDEs. For example, let us consider the heat equation from physics:\n",
    "\n",
    "$$\n",
    "f_t + (r-y)S f_S + 0.5 \\sigma^2 S^2 f_SS = (r-y)f.\n",
    "$$\n",
    "\n",
    "Subscripts denote partial derivatives.\n",
    "\n",
    "Typically, there are no analytic solutions for this equation unless we impose certain conditions. One would solve this with finite differences by considering the fact that since $f$ is a function of $(S,t)$, we can represent it on a discretized 2-D grid, with one of the axis being $S$ and the other being $t$. We also typically know the boundary conditions at $t=T$. One can then work backwords to obtain the values of $f$ at $t=0$, by using finite differences to obtain approximations of the partial derivatives.\n",
    "\n",
    "There are many schemes based on the finite difference method. The most stable scheme is currently thought to be the *Crank-Nicolson* scheme."
   ]
  }
 ],
 "metadata": {
  "language_info": {
   "name": "python"
  },
  "orig_nbformat": 4
 },
 "nbformat": 4,
 "nbformat_minor": 2
}
