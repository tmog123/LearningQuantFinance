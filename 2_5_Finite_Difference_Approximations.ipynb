{
 "cells": [
  {
   "attachments": {},
   "cell_type": "markdown",
   "metadata": {},
   "source": [
    "# Finite Difference Approximations #\n",
    "\n",
    "Finite difference approxximations are methods to obtain approximations for derivatives of functions, assuming that the derivatives are hard to analytically obtain. For example, a simple approximation for the first derivative of a function is given as:\n",
    "\n",
    "$$\n",
    "f^\\prime (x) \\approx \\frac{f(x+h)-f(x-h)}{2 h}.\n",
    "$$\n",
    "\n",
    "This is simply the definition of the first derivative, if we take the limit where $h$ goes to 0. This is called the *central finite differences* approximation. \n",
    "\n",
    "One sided finite differences can also be used. For example, the *forward* first order finite difference is:\n",
    "\n",
    "$$\n",
    "f^\\prime (x) \\approx \\frac{f(x+h)-f(x)}{h}.\n",
    "$$\n",
    "\n",
    "One can apply a first order difference method twice to obtain a second order difference approximation:\n",
    "\n",
    "$$\n",
    "f^{\\prime \\prime} (x) \\approx \\frac{f(x+h)-2 f(x) + f(x-h)}{h^2}.\n",
    "$$\n",
    "\n",
    "Later on, when we are using finite difference methods to approximate partial differential equations near boundaries, we can use one-sided approximations to the second derivative:\n",
    "\n",
    "$$\n",
    "f^{\\prime \\prime} (x) \\approx \\frac{f(x+2h)-2 f(x+h) + f(x)}{h^2}.\n",
    "$$"
   ]
  },
  {
   "cell_type": "markdown",
   "metadata": {},
   "source": []
  }
 ],
 "metadata": {
  "language_info": {
   "name": "python"
  },
  "orig_nbformat": 4
 },
 "nbformat": 4,
 "nbformat_minor": 2
}
