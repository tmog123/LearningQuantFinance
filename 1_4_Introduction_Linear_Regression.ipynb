{
 "cells": [
  {
   "cell_type": "markdown",
   "metadata": {},
   "source": [
    "# 1.4 Introduction Linear Regression #\n",
    "\n",
    "A regression model is a statistical model of the influence of random variables on a certain random variable. If we assume that they follow a simple linear relationship, of the form:\n",
    "\n",
    "$$\n",
    "Y = \\beta_1 X_1 + \\beta_2 X_2 + \\dots + \\beta_k X_k,\n",
    "$$\n",
    "\n",
    "then this is a linear regression model. In this case, there are $k$ *independent variables*. They are alternatively called *explanatory variables*. Sometimes, they are constants, and then they are called *constant terms*. The coefficients $\\beta_i$ are the parameters of the model that have to be estimated using data.\n",
    "\n",
    "#### Simplest Linear Model ####\n",
    "\n",
    "The simplest cast of a linear model is $Y = \\alpha + \\beta X$. We will work with some data from Yahoo! Finance subsequently.\n",
    "\n",
    "For such a simple model, using a scatter plot can aid in visualization."
   ]
  },
  {
   "cell_type": "code",
   "execution_count": 35,
   "metadata": {},
   "outputs": [
    {
     "name": "stdout",
     "output_type": "stream",
     "text": [
      "[*********************100%***********************]  1 of 1 completed\n",
      "                  Open        High         Low       Close   Adj Close  \\\n",
      "Date                                                                     \n",
      "2016-11-11   69.970001   70.589996   69.650002   70.500000   64.615486   \n",
      "2016-11-14   70.800003   72.680000   70.629997   72.419998   66.375244   \n",
      "2016-11-15   72.129997   72.480003   71.239998   72.470001   66.421059   \n",
      "2016-11-16   71.949997   72.400002   71.279999   71.680000   65.696991   \n",
      "2016-11-17   71.360001   72.000000   71.320000   71.779999   65.788628   \n",
      "...                ...         ...         ...         ...         ...   \n",
      "2019-05-20  118.830002  120.320000  118.620003  119.839996  114.096695   \n",
      "2019-05-21  120.470001  120.680000  119.339996  120.550003  114.772675   \n",
      "2019-05-22  120.360001  120.879997  119.440002  120.010002  114.258560   \n",
      "2019-05-23  119.269997  119.400002  117.849998  118.430000  112.754257   \n",
      "2019-05-24  119.209999  119.629997  118.330002  119.510002  113.782501   \n",
      "\n",
      "             Volume  \n",
      "Date                 \n",
      "2016-11-11  4656100  \n",
      "2016-11-14  8084100  \n",
      "2016-11-15  4431200  \n",
      "2016-11-16  4663700  \n",
      "2016-11-17  3797400  \n",
      "...             ...  \n",
      "2019-05-20  2765600  \n",
      "2019-05-21  3369100  \n",
      "2019-05-22  2941100  \n",
      "2019-05-23  3290200  \n",
      "2019-05-24  2240100  \n",
      "\n",
      "[636 rows x 6 columns]\n"
     ]
    }
   ],
   "source": [
    "#!pip install yfinance\n",
    "#!pip install yahoofinancials\n",
    "#!pip install pandas\n",
    "import pandas as pd\n",
    "import yfinance as yf\n",
    "import numpy as np\n",
    "from yahoofinancials import YahooFinancials\n",
    "\n",
    "startdate = '2016-11-10' #Only take data after this date\n",
    "enddate = '2019-05-26' #Only take data before this date\n",
    "\n",
    "# Download AMEX data, S&P 500 Data\n",
    "\n",
    "amex_data = yf.download('AXP')\n",
    "datestotakestart = amex_data.index>startdate\n",
    "datestotakeend = amex_data.index<enddate\n",
    "amex_data = amex_data[np.logical_and.reduce([datestotakestart,datestotakeend])]\n",
    "print(amex_data)\n",
    "# print(cutoffdata in amex_data.index)\n",
    "# amex_data[amex_data.apply(lambda x: x['c']%2 == 0, axis = 1)]\n",
    "# amex_data = amex_data.filter(items)\n",
    "# amex_data.loc[amex_data['index']>=cutoffdata]\n",
    "# print(amex_data)\n",
    "# SnP_data = yf.download('^GSPC')\n",
    "# print(SnP_data)"
   ]
  },
  {
   "cell_type": "code",
   "execution_count": null,
   "metadata": {},
   "outputs": [],
   "source": []
  }
 ],
 "metadata": {
  "interpreter": {
   "hash": "316e860a238c8892b0bc89caf8795812aa72b12f46a5ef18699767900e41eca6"
  },
  "kernelspec": {
   "display_name": "Python 3.9.1 ('base')",
   "language": "python",
   "name": "python3"
  },
  "language_info": {
   "codemirror_mode": {
    "name": "ipython",
    "version": 3
   },
   "file_extension": ".py",
   "mimetype": "text/x-python",
   "name": "python",
   "nbconvert_exporter": "python",
   "pygments_lexer": "ipython3",
   "version": "3.9.1"
  },
  "orig_nbformat": 4
 },
 "nbformat": 4,
 "nbformat_minor": 2
}
