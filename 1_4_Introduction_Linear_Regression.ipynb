{
 "cells": [
  {
   "cell_type": "markdown",
   "metadata": {},
   "source": [
    "# 1.4 Introduction Linear Regression #\n",
    "\n",
    "A regression model is a statistical model of the influence of random variables on a certain random variable. If we assume that they follow a simple linear relationship, of the form:\n",
    "\n",
    "$$\n",
    "Y = \\beta_1 X_1 + \\beta_2 X_2 + \\dots + \\beta_k X_k,\n",
    "$$\n",
    "\n",
    "then this is a linear regression model. In this case, there are $k$ *independent variables*. They are alternatively called *explanatory variables*. Sometimes, they are constants, and then they are called *constant terms*."
   ]
  }
 ],
 "metadata": {
  "language_info": {
   "name": "python"
  },
  "orig_nbformat": 4
 },
 "nbformat": 4,
 "nbformat_minor": 2
}
