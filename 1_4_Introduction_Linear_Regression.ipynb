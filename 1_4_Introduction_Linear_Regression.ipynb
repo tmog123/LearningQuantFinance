{
 "cells": [
  {
   "cell_type": "markdown",
   "metadata": {},
   "source": [
    "# 1.4 Introduction Linear Regression #\n",
    "\n",
    "A regression model is a statistical model of the influence of random variables on a certain random variable. If we assume that they follow a simple linear relationship, of the form:\n",
    "\n",
    "$$\n",
    "Y = \\beta_1 X_1 + \\beta_2 X_2 + \\dots + \\beta_k X_k,\n",
    "$$\n",
    "\n",
    "then this is a linear regression model. In this case, there are $k$ *independent variables*. They are alternatively called *explanatory variables*. Sometimes, they are constants, and then they are called *constant terms*. The coefficients $\\beta_i$ are the parameters of the model that have to be estimated using data.\n",
    "\n",
    "#### Simplest Linear Model ####\n",
    "\n",
    "The simplest cast of a linear model is $Y = \\alpha + \\beta X$. We will work with some data from Yahoo! Finance subsequently.\n",
    "\n",
    "For such a simple model, using a scatter plot can aid in visualization."
   ]
  },
  {
   "cell_type": "code",
   "execution_count": 24,
   "metadata": {},
   "outputs": [
    {
     "name": "stdout",
     "output_type": "stream",
     "text": [
      "[*********************100%***********************]  1 of 1 completed\n",
      "DatetimeIndex(['1972-06-01', '1972-06-02', '1972-06-05', '1972-06-06',\n",
      "               '1972-06-07', '1972-06-08', '1972-06-09', '1972-06-12',\n",
      "               '1972-06-13', '1972-06-14',\n",
      "               ...\n",
      "               '2022-11-10', '2022-11-11', '2022-11-14', '2022-11-15',\n",
      "               '2022-11-16', '2022-11-17', '2022-11-18', '2022-11-21',\n",
      "               '2022-11-22', '2022-11-23'],\n",
      "              dtype='datetime64[ns]', name='Date', length=12732, freq=None)\n",
      "True\n"
     ]
    }
   ],
   "source": [
    "#!pip install yfinance\n",
    "#!pip install yahoofinancials\n",
    "#!pip install pandas\n",
    "import pandas as pd\n",
    "import yfinance as yf\n",
    "from yahoofinancials import YahooFinancials\n",
    "\n",
    "cutoffdata = '2022-11-10' #Only take data after this year\n",
    "\n",
    "# Download AMEX data, S&P 500 Data\n",
    "\n",
    "amex_data = yf.download('AXP')\n",
    "print(amex_data.index)\n",
    "print(cutoffdata in amex_data.index)\n",
    "# amex_data[amex_data.apply(lambda x: x['c']%2 == 0, axis = 1)]\n",
    "# amex_data = amex_data.filter(items)\n",
    "# amex_data.loc[amex_data['index']>=cutoffdata]\n",
    "# print(amex_data)\n",
    "# SnP_data = yf.download('^GSPC')\n",
    "# print(SnP_data)"
   ]
  },
  {
   "cell_type": "code",
   "execution_count": null,
   "metadata": {},
   "outputs": [],
   "source": []
  }
 ],
 "metadata": {
  "interpreter": {
   "hash": "316e860a238c8892b0bc89caf8795812aa72b12f46a5ef18699767900e41eca6"
  },
  "kernelspec": {
   "display_name": "Python 3.9.1 ('base')",
   "language": "python",
   "name": "python3"
  },
  "language_info": {
   "codemirror_mode": {
    "name": "ipython",
    "version": 3
   },
   "file_extension": ".py",
   "mimetype": "text/x-python",
   "name": "python",
   "nbconvert_exporter": "python",
   "pygments_lexer": "ipython3",
   "version": "3.9.1"
  },
  "orig_nbformat": 4
 },
 "nbformat": 4,
 "nbformat_minor": 2
}
