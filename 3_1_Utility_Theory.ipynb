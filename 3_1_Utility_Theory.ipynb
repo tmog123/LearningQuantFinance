{
 "cells": [
  {
   "attachments": {},
   "cell_type": "markdown",
   "metadata": {},
   "source": [
    "# Utility Theory #\n",
    "\n",
    "Any investor will have a different optimal portfolio, which depends on his attitude to risk and his perceived trade-off between risk and returns. To calculate an optimal portfolio in a mathematical framework, one needs to devise a quantitative way to describe one's preferences, otherwise called an *utility function*\n",
    "\n",
    "Utility functions need to obey some rules, which are somewhat natural.\n",
    "\n",
    "1) *Transitive preferences* imply that if one prefers $A$ to $B$ and prefers $B$ to $C$, then he must prefer $A$ to $C$.\n",
    "\n",
    "2) *Independence* implies that if one is indifferent between $A$ and $B$, then he must also be indifferent between the two gambles $G_1$ and $G_2$, where \n",
    "\n",
    "$$\n",
    "G_1 = \\{ A \\text{ with probability }p \\text{ and } C \\text{ with probability } 1-p \\}, \\\\\n",
    "G_2 = \\{ B \\text{ with probability }p \\text{ and } C \\text{ with probability } 1-p \\}.\n",
    "$$\n",
    "\n",
    "3) *Certainty equivalence* implies that for any gamble, there will be a certain equivalent value such that the investor is indifferent between the gamble and the certain equivalent.\n",
    "\n",
    "4) *Stochastic dominance* implies that if we have two games $G_1$ and $G_2$ over outcomes $A$ and $B$. If one prefers $A$ to $B$, and $G_1$ associates a higher probability of $A$ than $G_2$, one must prefere $G_1$ to $G_2$.\n",
    "\n",
    "These four rules are sufficient to show thhat an utility function $U(W)$ exists, which assigns a real number to any monetary amount $W$ the investor might have, which is known as the *wealth*.\n",
    "\n",
    "An *investment* can be defined by a probability distribution over the possible outcomes. The *expected utility* of an investment $P$ is defined as:\n",
    "\n",
    "$$\n",
    "E[U(P)] = \\sum_i^n p_i U(W_i),\n",
    "$$\n",
    "\n",
    "where $W_i$ are the possible outcomes, and $p_i$ are the corresponding probabilities of obtaining those outcomes."
   ]
  }
 ],
 "metadata": {
  "language_info": {
   "name": "python"
  },
  "orig_nbformat": 4
 },
 "nbformat": 4,
 "nbformat_minor": 2
}
