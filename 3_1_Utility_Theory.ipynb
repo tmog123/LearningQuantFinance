{
 "cells": [
  {
   "attachments": {},
   "cell_type": "markdown",
   "metadata": {},
   "source": [
    "# Utility Theory #\n",
    "\n",
    "Any investor will have a different optimal portfolio, which depends on his attitude to risk and his perceived trade-off between risk and returns. To calculate an optimal portfolio in a mathematical framework, one needs to devise a quantitative way to describe one's preferences, otherwise called an *utility function*"
   ]
  }
 ],
 "metadata": {
  "language_info": {
   "name": "python"
  },
  "orig_nbformat": 4
 },
 "nbformat": 4,
 "nbformat_minor": 2
}
