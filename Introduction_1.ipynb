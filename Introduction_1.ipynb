{
 "cells": [
  {
   "cell_type": "markdown",
   "metadata": {},
   "source": [
    "# Introduction 1.1 #\n",
    "\n",
    "### Primers on Probability and Statistics ###\n",
    "\n",
    "For a random variable $X$, we define the mean $\\mu$ as the expectation, $E(X)$.\n",
    "\n",
    "Expectation operator is defined as:\n",
    "\n",
    "$$\n",
    "E(X) = \\int_{-\\inf}^{\\inf} x f(x) dx\n",
    "$$\n",
    "\n",
    "where $f(x)$ is the density function of the random variable. The expectation operator is linear in its arguments. If given a sample of size $n$, an unbiased estimator of the expected value $\\bar{x}$ is:\n",
    "\n",
    "$$\n",
    "\\bar{x} = n^{-1} \\sum_{i}^n x_i .\n",
    "$$\n",
    "\n",
    "By saying it is unbiased, we are saying $E(\\bar{X}) = E (X) = \\mu$.\n",
    "\n",
    "We next define the Variance:\n",
    "\n",
    "$$\n",
    "V(X) = \\sigma^2 = \\int_{-\\inf}^{\\inf} (x-\\mu)^2 f(x) dx = E\\left(\\left(X - E(X)\\right)^2\\right).\n",
    "$$\n",
    "\n",
    "A property of the variance, is that for 2 constants $a$ and $b$, and 2 random variables $X$ and $Y$\n",
    "\n",
    "$$\n",
    "V(aX + bY) = a^2 V(X) + b^2 V(Y) + 2 a b Cov(X,Y)\n",
    "$$\n",
    "\n",
    "where $Cov(X,Y)$ is the covariance between the 2 random variables,\n",
    "\n",
    "$$\n",
    "Cov(X,Y) = E\\left((X-\\mu_X)(Y-\\mu_Y)\\right).\n",
    "$$\n",
    "\n",
    "Note that an unbiased estimator for the variance is:\n",
    "\n",
    "$$\n",
    "s^2 = (n-1)^{-1} \\sum_i^n (x_i - \\bar{x}).\n",
    "$$\n",
    "\n",
    "To see where we get the $(n-1)^{-1}$ comes from, calculate the expected difference between the true variance and the estimator with only $n^{-1}$:\n",
    "\n",
    "$$\n",
    "E(\\sigma^2 - s_n^2) = E\\left[\\frac{1}{n}\\sum_i^n(x_i -\\mu)^2 - \\frac{1}{n}\\sum_i^n(x_i -\\bar{x})^2\\right]\\\\\n",
    "= \\frac{\\sigma^2}{n}.\n",
    "$$\n",
    "\n",
    "This can be generalized. The $k$th central moment is defined as:\n",
    "\n",
    "$$\n",
    "\\mu_k = E\\left((X-\\mu)^k\\right).\n",
    "$$\n",
    "\n",
    "Skewness is the third central moment, kurtosis is the fourth central moment. There are many different definitions of sample skewness and kurtosis to make them unbiased, especially for small samples.\n",
    "\n"
   ]
  },
  {
   "cell_type": "code",
   "execution_count": 1,
   "metadata": {},
   "outputs": [],
   "source": [
    "import numpy as np"
   ]
  }
 ],
 "metadata": {
  "kernelspec": {
   "display_name": "Python 3.9.5 64-bit",
   "language": "python",
   "name": "python3"
  },
  "language_info": {
   "codemirror_mode": {
    "name": "ipython",
    "version": 3
   },
   "file_extension": ".py",
   "mimetype": "text/x-python",
   "name": "python",
   "nbconvert_exporter": "python",
   "pygments_lexer": "ipython3",
   "version": "3.9.5"
  },
  "orig_nbformat": 4,
  "vscode": {
   "interpreter": {
    "hash": "1a26e4b7189bf03eb81522675f6e6c88684ba722547c6ad443d3676f771c332f"
   }
  }
 },
 "nbformat": 4,
 "nbformat_minor": 2
}
