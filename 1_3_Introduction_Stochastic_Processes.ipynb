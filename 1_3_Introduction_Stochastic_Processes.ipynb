{
 "cells": [
  {
   "cell_type": "markdown",
   "metadata": {},
   "source": [
    "# 1.3 Introduction Stochastic Processes #\n",
    "\n",
    "A stochastic process is a sequence of identically distributed random variables. When this is discrete, it is usually called Time Series Analysis. If continuous, usually represented as Stochastic Differential Equations.\n",
    "\n",
    "#### Stationary and Integrated Processes in Discrete Time ####\n",
    "\n",
    "A discrete time stochastic process is a sequence of random variables from the same distribution process, $\\{X_1, X_2, \\dots, X_T\\}$. It is *stationary* if $E(X_t)$ is a finite constant, $V(X_t)$ is a finite constant, and the joint distribution of $(X_t,X_s)$ depends only on $|t-s|$. The first 2 conditions imply that the expected value of such a process does not drift, and that most realizations should be close to the expected value (how close is with respect to the given variance). The third condition implies that the joint distribution between any 2 variables $n$ distance apart in time is the same. \n",
    "\n",
    "It is common to assume that the random variables are independent and identically distributed, and sometimes also assumed that they are standard normal $X_t \\sim NID(0,1)$.\n",
    "\n",
    "An *autoregression* is a regression of a stationary process on its own lags. For example, a first order autoregression $AR(1)$ is a regression on the first lag, expressed as:\n",
    "\n",
    "$$\n",
    "\n",
    "X_t = \\alpha + \\rho X_{t-1} + \\epsilon_t, \\\\\n",
    "\\epsilon_i \\sim i.i.d (0,\\sigma^2).\n",
    "\n",
    "$$\n",
    "\n",
    "$\\rho$ is called the first order autocorrelation coefficient. It can be shown that:\n",
    "\n",
    "$$\n",
    "E(X_t) = \\frac{\\alpha}{1-\\rho},\\\\\n",
    "V(X_t) = \\frac{\\sigma^2}{1-\\rho^2},\\\\\n",
    "\\rho = \\frac{Cov(X_t,X_{t-1})}{V(X_t)}.\n",
    "$$\n",
    "\n",
    "Thus, can see the expectation and variance are both finite constants is $|\\rho| < 1$. However, if $\\rho=1$, the expectation and variance are infinite, process is non-stationary. The $AR(1)$ model for $\\rho=1$ is the discrete time random walk model with drift $\\alpha$ and volatility $\\sigma$."
   ]
  },
  {
   "cell_type": "markdown",
   "metadata": {},
   "source": [
    "#### Mean Reverting Processes and Random Walks in Continuous Time ####\n",
    "\n",
    "A *Wiener Process*, otherwise called a *Brownian Motion*, describes the stochastic part of a continuous time stochastic process when the process does not jump. The dynamics of a continous time stochastic process $X(t)$ can be described by the following SDE:\n",
    "\n",
    "$$\n",
    "\n",
    "dX(t) = \\alpha dt + \\sigma dZ(t),\n",
    "\n",
    "$$\n",
    "\n",
    "where $\\alpha$ is the drift of the process, $\\sigma$ is the process volatility. $dZ(t)$ is a standard normal independent process, which means that as we move from continous to discrete time, $dZ(t) \\rightarrow Z_t \\sim NID(0,1)$. Also the increment $dX(t)$ in discrete time becomes $\\triangle X_t = X_t - X_{t-1}$. This will eventually allow you to recover the discrete time random walk model, $AR(1)$. This is thus not always stationary. However, one can add a mean reversion mechanism to the drift term:\n",
    "\n",
    "$$\n",
    "\n",
    "dX(t) = \\phi(\\theta - X(t))dt + \\sigma dB(t).\n",
    "\n",
    "$$\n",
    "\n",
    "The parameter $\\phi$ is called the rate of mean reversion and the parameter $\\theta$ is called the long term value of $X$."
   ]
  },
  {
   "cell_type": "markdown",
   "metadata": {},
   "source": [
    "#### Stochastic Models for Asset Prices and Returns ####\n",
    "\n",
    "Usually in efficient markets, a time series of prices or log prices will follow a random walk. However, prices of tradable assets can never be negative. Thus, to represent the dynamics of an asset price we often use a *geometric Browninan motion* which is described by the following SDE:\n",
    "\n",
    "$$\n",
    "\n",
    "\\frac{dS(t)}{S(t)} = \\mu dt + \\sigma dZ(t).\n",
    "\n",
    "$$\n",
    "\n",
    "The standard assumption, pioneered by Black and Scholes and Merton, is that $\\mu$ and $\\sigma$ are constant. This is typically not valid for financial asset prices, but gives us a standard to gauge other models.\n",
    "\n",
    "We introduce *Ito's Lemma*, which states that if $f$ is any function of $S$ and $t$, the SDE for the dynamics of $f$ may be derived from the SDE for the dynamics of $S$ as:\n",
    "\n",
    "$$\n",
    "df(S,t) = \\left( f_t(S,t) + \\mu S(t)f_S (S,t) + \\frac{1}{2} \\sigma^2 S(t)^2 f_{SS} (S,t) \\right)dt + f_S (S,t) \\sigma S(t) d Z(t),\n",
    "$$\n",
    "\n",
    "where subscripts describe partial derivatives. If we apply the lemma with $f = \\log S$, we see a continuous time representation of geometric Brownian motion that is equivalent to the geometric Brownian motion mentioned above, but now translated into log prices, which is known as the arithmetic Brownian motion:\n",
    "\n",
    "$$\n",
    "d \\log S(t) = (\\mu - \\frac{1}{2} \\sigma^2)dt + \\sigma dW(t).\n",
    "$$\n",
    "\n",
    "If we wanted to see what a discretization of this looks like, we just need to notice that using the standard discrete time notation $P_t$, for a price at time $t$ we have $d \\log S(t) \\rightarrow \\triangle \\log P_t$. Then we see that $\\triangle \\log P_t = \\alpha + \\epsilon_t, \\epsilon_t \\sim NID(0,\\sigma^2),\\alpha = \\mu - \\frac{1}{2} \\sigma^2$. This now is equivalent to a discrete time random walk model for the log prices, $\\log P_t = \\alpha + \\log P_{t-1} + \\epsilon_t$."
   ]
  },
  {
   "cell_type": "markdown",
   "metadata": {},
   "source": [
    "#### Jumps and the Poison Process ####\n",
    "\n",
    "Suppose the number of events (henceforth called jumps) follow a Poisson process and let $n(t)$ be the number of jumps from time $0$ to time $t$. Then, the defining property of the Poisson process is that $n(t_2) - n(t_1)$ has a Poisson distribution for any times $t_1$ and $t_2$ with $t_2 > t_1$. The Poisson process has a single parameter $\\lambda$:\n",
    "\n",
    "$$\n",
    "\n",
    "P(n(t+dt) - n(t) = x) = \\frac{\\exp(-\\lambda dt)(\\lambda dt)^x}{x!},\n",
    "\n",
    "$$\n",
    "\n",
    "where $x = 0,1,2,\\dots$. The process $n(t)$ is an example of a counting process. An alternative formulation of a Poisson process uses an indicator process $q(t)$ instead. $q(t)$ is a continuous time process which is unity if a jump occurs at time $t$ and $0$ otherwise. Then, the probability of a jump occuring during a time $dt$ is $\\lambda dt$.\n",
    "\n",
    "We can apply the poisson process to model asset prices using a jump diffusion process of the form:\n",
    "\n",
    "$$\n",
    "\n",
    "\\frac{dS(t)}{S(t)} = \\mu dt + \\sigma dW(t) + J(t)dq(t),\n",
    "\n",
    "$$\n",
    "\n",
    "where the size of the jump $J(t)$ is a random variable. This will be further covered in later jupyter notebooks."
   ]
  }
 ],
 "metadata": {
  "kernelspec": {
   "display_name": "Python 3.9.5 64-bit",
   "language": "python",
   "name": "python3"
  },
  "language_info": {
   "name": "python",
   "version": "3.9.5"
  },
  "orig_nbformat": 4,
  "vscode": {
   "interpreter": {
    "hash": "1a26e4b7189bf03eb81522675f6e6c88684ba722547c6ad443d3676f771c332f"
   }
  }
 },
 "nbformat": 4,
 "nbformat_minor": 2
}
