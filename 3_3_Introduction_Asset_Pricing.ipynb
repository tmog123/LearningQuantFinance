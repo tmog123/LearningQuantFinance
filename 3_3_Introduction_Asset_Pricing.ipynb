{
 "cells": [
  {
   "attachments": {},
   "cell_type": "markdown",
   "metadata": {},
   "source": [
    "# Introduction to Asset Pricing #\n",
    "\n",
    "The theory of asset pricing relies on a few fundamental assumptions.\n",
    "\n",
    "* There is a risk free asset, and there can be unlimited lending and borrowing at a risk free rate. Usually, this is the price of government bonds issued by reliable and stable governments. \n",
    "\n",
    "* All assets can be fully described by their expected return, return standard deviation, and return correlations with other asset returns.\n",
    "\n",
    "* All assets can be bought and sold in unlimited quantities.\n",
    "\n",
    "* All investors have access to the exact same information.\n",
    "\n",
    "* All investors are risk adverse, and will prefer the portfolio with minimum variance for any given level of returns.\n",
    "\n",
    "These assumptions will firstly lead to an unique market portfolio of risky assets that all investors can agree is the optimal basket of risky assets.\n",
    "\n",
    "Given any protfolio $P$, we can form another portfolio by placing a proportion $w$ of our funds in $P$ and a proportion $1-w$ in the risk free asset."
   ]
  }
 ],
 "metadata": {
  "language_info": {
   "name": "python"
  },
  "orig_nbformat": 4
 },
 "nbformat": 4,
 "nbformat_minor": 2
}
