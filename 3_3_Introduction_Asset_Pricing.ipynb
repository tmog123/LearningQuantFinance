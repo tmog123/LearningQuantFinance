{
 "cells": [
  {
   "attachments": {},
   "cell_type": "markdown",
   "metadata": {},
   "source": [
    "# Introduction to Asset Pricing #\n",
    "\n",
    "The theory of asset pricing relies on a few fundamental assumptions.\n",
    "\n",
    "* There is a risk free asset, and there can be unlimited lending and borrowing at a risk free rate. Usually, this is the price of government bonds issued by reliable and stable governments. \n",
    "\n",
    "* All assets can be fully described by their expected return, return standard deviation, and return correlations with other asset returns.\n",
    "\n",
    "* All assets can be bought and sold in unlimited quantities.\n",
    "\n",
    "* All investors have access to the exact same information.\n",
    "\n",
    "* All investors are risk adverse, and will prefer the portfolio with minimum variance for any given level of returns.\n",
    "\n",
    "These assumptions will firstly lead to an unique market portfolio of risky assets that all investors can agree is the optimal basket of risky assets.\n",
    "\n",
    "Given any portfolio $P$, we can form another portfolio by placing a proportion $w$ of our funds in $P$ and a proportion $1-w$ in the risk free asset. The new expected return is given by:\n",
    "\n",
    "$$\n",
    "\\mu = w \\mu_P +(1-w)R_f.\n",
    "$$\n",
    "\n",
    "The standard deviation of the new portfolio is given by:\n",
    "\n",
    "$$\n",
    "\\sigma = w \\sigma_P\n",
    "$$\n",
    "\n",
    "since the risk free rate has zero variance. Let us rewrite the equations:\n",
    "\n",
    "$$\n",
    "\\mu = R_f + \\lambda \\sigma,\n",
    "$$\n",
    "\n",
    "where $\\lambda = (\\mu_P - R_f)/\\sigma_P$. This $\\lambda$ is known as the *Sharpe ratio*. This can be illustrated on the feasible set graph.\n",
    "\n",
    "![Imagefromwikipedia](images/3_3_Sharpe_ratio.jpg)\n",
    "\n",
    "The Sharpe ratio is the gradient of the line that cuts through the portfolio $P$ and the point on the Expected Returns axis (y-axis) that denotes the returns of the risk-free asset $R_f$. We can denote the point where the opportunity set without risk free borrowing and lending intersects the efficient frontier when there is borrowing and lending at the risk free rate. Under the five assumptions all investors can agree on the optimal allocation between all risky assets, and we call this the *market portfolio* $M$. By borrowing or lending at the risk free interest rate, we can achieve any level of risk and return on the *capital market line* which is the line through the risk free interest rate $R_f$ and $M$.\n",
    "\n",
    "Usually, given a risk-free rate and a market portfolio with known expected return and standard deviation, one will calculat the Sharpe ratio and then the equation of the capital market line."
   ]
  },
  {
   "cell_type": "markdown",
   "metadata": {},
   "source": [
    "#### Capital Asset Pricing Model ####\n",
    "\n",
    "The capital asset pricing model (CAPM) assumes the existence of a market portfolio and capital market line. The aim of the CAPM is to deduce how to price risky assets when the market is in equilibrium. To derive the CAMP, we want to consider the conditions where a risky asset can be added to an already well diversified portfolio. This depends on the *systematic risk* of the asset, also known as the *undiversifiable risk* of the asset which implies that it cannot be diversified away by holding a large portfolio of different risky assets. We also want to introduce the concept of *market equilibrium* in which the expected excess return on any single risk asset is proportional to the expected excess return on the market portfolio, $E(R_i)-R_f = \\beta_i(E(R_M)-R_f)$, for al lreturns $R_i$ on risky assets $i=1,2,\\dots,n$. $\\beta_i$ represents the assets return's sensitivity tochanges in the market return. This is also known as the *CAPM beta* of the asset. The term in the bracket on the right hand side is called the *market risk premium*. It is the additional return above the risk free rate, that compensates them for the risk of holding the market portfolio. If we know the asset betas, the expected return of the market portfolio, and the risk free rate, then this model estabishes the equilibrium value for $E(R_i)$.\n",
    "\n",
    "The *security market line* (SML) is the line derived from the CAPM model where $E(R_i)$ is plotted on the y axis and the CAPM beta is plotted on the x axis. It passes throug the points $(0,R_f)$ and $(1,E(R_M))$, with slope $E(R_M)-R_f$.\n",
    "\n",
    "![Imagefromwikipedia](images/3_3_SML.png)\n",
    "\n",
    "If stocks are in equilibrium, they will lie on this line. If they are not, which means:\n",
    "\n",
    "$$\n",
    "E(R_i)-R_f = \\alpha_i + \\beta_i(E(R_M)-R_f), \\alpha_i \\neq 0,\n",
    "$$\n",
    "\n",
    "then they are either over or under valued. Those with positive alphas should be bought, while those with negative alpha should be sold. One would usually expect that over a period of time, those assets should trend towards the SML."
   ]
  },
  {
   "cell_type": "markdown",
   "metadata": {},
   "source": [
    "#### Testing the CAPM ####\n",
    "\n",
    "The statistical test for the CAPM equilbrium is a test for the hypothesis\n",
    "\n",
    "$$\n",
    "H_0: \\alpha_1 = \\alpha_2 = \\dots = 0.\n",
    "$$\n",
    "\n",
    "It is common to put the model into a time series context and to thest the hypothesis using historical data on the excess returns on the assets and the excess return on the market portfolio. If we assume that the CAPM holds for all periods of time and $\\beta_i$ is assumed to be constant over the whole sample of $T$ observations, then the CAPM test may be based on a regression model of the form:\n",
    "\n",
    "$$\n",
    "E(R_{it}) - R_{ft} = \\alpha_i + \\beta_i (E(R_{Mt})-R_{ft}) + \\epsilon_{it},\n",
    "$$\n",
    "\n",
    "for $i = 1,\\dots,n$ and $t=1,\\dots,T$. Here $\\epsilon_{it}$ is the stocks specific term and each intercept term $\\alpha_i$ should be 0 if the CAPM model equilibrium holds.\n",
    "\n",
    "One can write this using matrix notation:\n",
    "\n",
    "$$\n",
    "\\vec{y}_t = \\vec{\\alpha} + \\vec{\\beta} X_{Mt} + \\vec{\\epsilon}_t,\n",
    "$$\n",
    "\n",
    "where $\\vec{y}_t$ is an $n \\times 1$ vector with $ i $ th element $Y_{it}$, which is the excess return on the stock $i$ at time $t$. $\\vec{\\epsilon}_t$ is an $n \\times 1$ vector with element $\\epsilon_{it}$. We can assume that $\\epsilon_{it}$ has a distribution $\\sim i.i.d. (0,\\epsilon_i^2)$, but we cannot assume that the error terms on two different assets are contemporaneously uncorrelated. If we denote by $\\rho_{ij}$ the correlation between $ i $ th asset excess return and the $ j $ th asset excess return, and assuming this is constant over time, we can write the covariance matrix:\n",
    "\n",
    "$$\n",
    "V(\\epsilon_t) = (\\rho_{ij} \\sigma_i \\sigma _ j) = \\hat{\\Sigma}.\n",
    "$$\n",
    "\n",
    "Now the test statistic for the hypothesis is:\n",
    "\n",
    "$$\n",
    "W = k_M \\vec{\\alpha}^T \\hat{\\Sigma}^{-1} \\vec{\\alpha},\\\\\n",
    "k_M = (1+ (\\bar{X}/s_X)^2)^{-1},\n",
    "$$\n",
    "\n",
    "where $\\bar{X}$ and $s_X$ denote the sample mean and sample standard deviation of the excess return on the market portfolio. Under the null hypothesis $W$ has a chi-squared distribution with $n$ degrees of freedom.\n",
    "\n",
    "To test the hypothesis, one would obtain historical data on the excess returns on the assets and the excess returns on the market portfolio over a time period."
   ]
  },
  {
   "cell_type": "markdown",
   "metadata": {},
   "source": [
    "#### Extensions to CAPM ####\n",
    "\n",
    "The previous test for the CAPM described assumes that the systematic risk of each risky asset is constant over time and that the error process is homoscedastic, which means the error has constant variance over the entire time period. These assumptions can be dropped if one wishes to extend the CAPM, which is also more realistic. The CAPM also assumes that the returns on risky assets are fully characterized by their expected return and standard deviation, and the joint distribution between the return on an asset and the return on the market portfolio is normal. We can also extend the CAPM to allow this distribution to be non-normal. Some of these methods are known as *higher moment CAPM equilibriums*, as it is possible to derive extensions to CAPM where the systematic risk of the risky asset is related to higher moments of the joint distribution."
   ]
  }
 ],
 "metadata": {
  "kernelspec": {
   "display_name": "Python 3",
   "language": "python",
   "name": "python3"
  },
  "language_info": {
   "name": "python",
   "version": "3.9.5 (tags/v3.9.5:0a7dcbd, May  3 2021, 17:27:52) [MSC v.1928 64 bit (AMD64)]"
  },
  "orig_nbformat": 4,
  "vscode": {
   "interpreter": {
    "hash": "1a26e4b7189bf03eb81522675f6e6c88684ba722547c6ad443d3676f771c332f"
   }
  }
 },
 "nbformat": 4,
 "nbformat_minor": 2
}
