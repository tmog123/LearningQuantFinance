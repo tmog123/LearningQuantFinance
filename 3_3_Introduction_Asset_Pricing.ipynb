{
 "cells": [
  {
   "attachments": {},
   "cell_type": "markdown",
   "metadata": {},
   "source": [
    "# Introduction to Asset Pricing #\n",
    "\n",
    "The theory of asset pricing relies on a few fundamental assumptions.\n",
    "\n",
    "* There is a risk free asset, and there can be unlimited lending and borrowing at a risk free rate. Usually, this is the price of government bonds issued by reliable and stable governments. \n",
    "\n",
    "* All assets can be fully described by their expected return, return standard deviation, and return correlations with other asset returns.\n",
    "\n",
    "* All assets can be bought and sold in unlimited quantities.\n",
    "\n",
    "* All investors have access to the exact same information.\n",
    "\n",
    "* All investors are risk adverse, and will prefer the portfolio with minimum variance for any given level of returns.\n",
    "\n",
    "These assumptions will firstly lead to an unique market portfolio of risky assets that all investors can agree is the optimal basket of risky assets.\n",
    "\n",
    "Given any portfolio $P$, we can form another portfolio by placing a proportion $w$ of our funds in $P$ and a proportion $1-w$ in the risk free asset. The new expected return is given by:\n",
    "\n",
    "$$\n",
    "\\mu = w \\mu_P +(1-w)R_f.\n",
    "$$\n",
    "\n",
    "The standard deviation of the new portfolio is given by:\n",
    "\n",
    "$$\n",
    "\\sigma = w \\sigma_P\n",
    "$$\n",
    "\n",
    "since the risk free rate has zero variance. Let us rewrite the equations:\n",
    "\n",
    "$$\n",
    "\\mu = R_f + \\lambda \\sigma,\n",
    "$$\n",
    "\n",
    "where $\\lambda = (\\mu_P - R_f)/\\sigma_P$. This $\\lambda$ is known as the *Sharpe ratio*. This can be illustrated on the feasible set graph.\n",
    "\n",
    "![Imagefromwikipedia](images/3_3_Sharpe_ratio.jpg)\n",
    "\n",
    "The Sharpe ratio is the gradient of the line that cuts through the portfolio $P$ and the point on the Expected Returns axis (y-axis) that denotes the returns of the risk-free asset $R_f$. We can denote the point where the opportunity set without risk free borrowing and lending intersects the efficient frontier when there is borrowing and lending at the risk free rate. Under the five assumptions all investors can agree on the optimal allocation between all risky assets, and we call this the *market portfolio* $M$. By borrowing or lending at the risk free interest rate, we can achieve any level of risk and return on the *capital market line* which is the line through the risk free interest rate $R_f$ and $M$."
   ]
  }
 ],
 "metadata": {
  "kernelspec": {
   "display_name": "Python 3",
   "language": "python",
   "name": "python3"
  },
  "language_info": {
   "name": "python",
   "version": "3.9.5 (tags/v3.9.5:0a7dcbd, May  3 2021, 17:27:52) [MSC v.1928 64 bit (AMD64)]"
  },
  "orig_nbformat": 4,
  "vscode": {
   "interpreter": {
    "hash": "1a26e4b7189bf03eb81522675f6e6c88684ba722547c6ad443d3676f771c332f"
   }
  }
 },
 "nbformat": 4,
 "nbformat_minor": 2
}
