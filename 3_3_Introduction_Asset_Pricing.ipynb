{
 "cells": [
  {
   "attachments": {},
   "cell_type": "markdown",
   "metadata": {},
   "source": [
    "# Introduction to Asset Pricing #\n",
    "\n",
    "The theory of asset pricing relies on a few fundamental assumptions.\n",
    "\n",
    "* There is a risk free asset, and there can be unlimited lending and borrowing at a risk free rate. Usually, this is the price of government bonds issued by reliable and stable governments. \n",
    "\n",
    "* All assets can be fully described by their expected return, return standard deviation, and return correlations with other asset returns.\n",
    "\n",
    "* All assets can be bought and sold in unlimited quantities.\n",
    "\n",
    "* All investors have access to the exact same information.\n",
    "\n",
    "* All investors are risk adverse, and will prefer the portfolio with minimum variance for any given level of returns.\n",
    "\n",
    "These assumptions will firstly lead to an unique market portfolio of risky assets that all investors can agree is the optimal basket of risky assets.\n",
    "\n",
    "Given any protfolio $P$, we can form another portfolio by placing a proportion $w$ of our funds in $P$ and a proportion $1-w$ in the risk free asset."
   ]
  }
 ],
 "metadata": {
  "kernelspec": {
   "display_name": "Python 3",
   "language": "python",
   "name": "python3"
  },
  "language_info": {
   "name": "python",
   "version": "3.9.5 (tags/v3.9.5:0a7dcbd, May  3 2021, 17:27:52) [MSC v.1928 64 bit (AMD64)]"
  },
  "orig_nbformat": 4,
  "vscode": {
   "interpreter": {
    "hash": "1a26e4b7189bf03eb81522675f6e6c88684ba722547c6ad443d3676f771c332f"
   }
  }
 },
 "nbformat": 4,
 "nbformat_minor": 2
}
