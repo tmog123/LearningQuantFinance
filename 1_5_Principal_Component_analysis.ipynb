{
 "cells": [
  {
   "cell_type": "markdown",
   "metadata": {},
   "source": [
    "# Principal Component Analysis #\n",
    "\n",
    "Principal Component Analysis (PCA) is based on the spectral decomposition of a matrix. For a matrix $A$, we aim to find the decomposition $A = W \\Lambda W^\\dag$, where $\\Lambda$ is a diagonal matrix. This is useful as it gives us a transformation to an orthonormal basis for the matrix $A$. It is typically applied on a covariance or correlation matrix."
   ]
  }
 ],
 "metadata": {
  "language_info": {
   "name": "python"
  },
  "orig_nbformat": 4
 },
 "nbformat": 4,
 "nbformat_minor": 2
}
