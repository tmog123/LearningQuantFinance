{
 "cells": [
  {
   "cell_type": "markdown",
   "metadata": {},
   "source": [
    "# Principal Component Analysis #\n",
    "\n",
    "Principal Component Analysis (PCA) is based on the spectral decomposition of a matrix. For a matrix $A$, we aim to find the decomposition $A = W \\Lambda W^\\dag$, where $\\Lambda$ is a diagonal matrix. This is useful as it gives us a transformation to an orthonormal basis for the matrix $A$. It is typically applied on a covariance or correlation matrix.\n",
    "\n",
    "While PCA is the most popular and straightforward orthogonalization technique, it is by no means the only method.\n",
    "\n",
    "Let us denote $X$ to be the $T \\times n$ matrix of data ($T$ data points, $n$ number of variables)."
   ]
  }
 ],
 "metadata": {
  "language_info": {
   "name": "python"
  },
  "orig_nbformat": 4
 },
 "nbformat": 4,
 "nbformat_minor": 2
}
