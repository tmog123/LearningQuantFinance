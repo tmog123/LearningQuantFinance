{
 "cells": [
  {
   "cell_type": "markdown",
   "metadata": {},
   "source": [
    "# Interpolation and Extrapolation #\n",
    "\n",
    "Interpolation is a special sort of curve fitting that demands the found curve pass exactly through any given data. One does this to then infer the values of missing data, either within the range of existing data, which is interpolation, or outside the experienced range, which is extrapolation.\n",
    "\n",
    "Linear interpolation can be done with 2 points. If we have 2 data points $(x_1,y_1),(x_2,y_2)$, with $x_1 < x_2$, linear interpolation gives the value of $y$ at any point $x \\in [x_1,x_2]$ as:\n",
    "\n",
    "$$\n",
    "y = \\frac{(x_2 - x_1)y_1 + (x - x_1)y_2}{x_2-x_1}.\n",
    "$$\n",
    "\n",
    "As one can imagine, this is a very crude way to get approximations. An improvement would be use to use a general class of polynomials to find a curve that passes through all the points. Typically, for $n$ points, there is a unique polynomial of degree $n-1$ that will pass through all $n$ points. One could even stitch together these polynomials piecewise."
   ]
  }
 ],
 "metadata": {
  "language_info": {
   "name": "python"
  },
  "orig_nbformat": 4
 },
 "nbformat": 4,
 "nbformat_minor": 2
}
