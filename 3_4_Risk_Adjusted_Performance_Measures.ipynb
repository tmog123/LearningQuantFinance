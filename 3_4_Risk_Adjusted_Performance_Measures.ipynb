{
 "cells": [
  {
   "cell_type": "markdown",
   "metadata": {},
   "source": [
    "# Risk Adjusted Performance Measures #\n",
    "\n",
    "Risk metrics, or measures of risk, can be deployed for different purposes."
   ]
  }
 ],
 "metadata": {
  "language_info": {
   "name": "python"
  },
  "orig_nbformat": 4
 },
 "nbformat": 4,
 "nbformat_minor": 2
}
