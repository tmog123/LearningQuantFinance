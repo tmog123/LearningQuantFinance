{
 "cells": [
  {
   "cell_type": "markdown",
   "metadata": {},
   "source": [
    "# Risk Adjusted Performance Measures #\n",
    "\n",
    "Risk metrics, or measures of risk, can be deployed for different purposes. They usually have to balance between risk and return. Both risk and return are usually measured relative to a benchmark, in which case we call them the *active risk* and *active return*. By taking the ratio of active return to active risk in a *risk adjusted performance measure* (RAPM) it is possible for one to rank different investment opportunities.\n",
    "\n",
    "One will typically use RAPMs to rank portfolios in an order of preference, given that the preferences have already been specified. This suggests that we need to look very closely at how to link utility functions to RAPMs. Unfortunately, this is only possible on some cases. For cases where this is not possible, the RAPM can still be used to rank the investments, but one should avoid making any decision based on the rank, nor drawing any conclusions from the ranking, since to make any decision we would need an utility function."
   ]
  },
  {
   "cell_type": "markdown",
   "metadata": {},
   "source": [
    "#### CAPM RAPMs ####\n",
    "\n",
    "We will first discuss RAPMs that are linked to the CAPM. One fundamental RAPM is the *Sharpe ratio*, $\\lambda$, which applies if the distributions to be compared have the same share in the region of their expected values. For example, it can be applied if all the distributions intended to be ranked have normal distributions, or all are Student $t$ distributions with the same degree of freedoms. The Sharpe ratio is relavant to a portfolio when there is the option to invest in a risk free asset. \n",
    "\n",
    "We first assume that there is unlimited risk free lending and borrowing at the risk free rate $R_f$. We remember the Sharpe ratio introduced in the previous section:\n",
    "\n",
    "$$\n",
    "\\lambda = (E(R)-R_f)/ \\sigma,\n",
    "$$\n",
    "\n",
    "where $E(R)$ is the forecasted expected return, and $\\sigma$ is the standard deviation of the returns. Suppose we forecast an alpha for a risky asset in the CAPM framework and this alpha is positive. We would probably want to add this asset to our portfolio, but the CAPM does not tell us how much of this asset we should buy."
   ]
  }
 ],
 "metadata": {
  "language_info": {
   "name": "python"
  },
  "orig_nbformat": 4
 },
 "nbformat": 4,
 "nbformat_minor": 2
}
