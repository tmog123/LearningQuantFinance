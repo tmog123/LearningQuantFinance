{
 "cells": [
  {
   "cell_type": "markdown",
   "metadata": {},
   "source": [
    "# Risk Adjusted Performance Measures #\n",
    "\n",
    "Risk metrics, or measures of risk, can be deployed for different purposes. They usually have to balance between risk and return. Both risk and return are usually measured relative to a benchmark, in which case we call them the *active risk* and *active return*. By taking the ratio of active return to active risk in a *risk adjusted performance measure* (RAPM) it is possible for one to rank different investment opportunities.\n",
    "\n",
    "One will typically use RAPMs to rank portfolios in an order of preference, given that the preferences have already been specified. This suggests that we need to look very closely at how to link utility functions to RAPMs. Unfortunately, this is only possible on some cases. For cases where this is not possible, the RAPM can still be used to rank the investments, but one should avoid making any decision based on the rank, nor drawing any conclusions from the ranking, since to make any decision we would need an utility function."
   ]
  },
  {
   "cell_type": "markdown",
   "metadata": {},
   "source": [
    "#### CAPM RAPMs ####\n",
    "\n",
    "We will first discuss RAPMs that are linked to the CAPM. One fundamental RAPM is the *Sharpe ratio*, $\\lambda$, which applies if the distributions to be compared have the same share in the region of their expected values. For example, it can be applied if all the distributions intended to be ranked have normal distributions, or all are Student $t$ distributions with the same degree of freedoms. The Sharpe ratio is relavant to a portfolio when there is the option to invest in a risk free asset. \n",
    "\n",
    "We first assume that there is unlimited risk free lending and borrowing at the risk free rate $R_f$. We remember the Sharpe ratio introduced in the previous section:\n",
    "\n",
    "$$\n",
    "\\lambda = (E(R)-R_f)/ \\sigma,\n",
    "$$\n",
    "\n",
    "where $E(R)$ is the forecasted expected return, and $\\sigma$ is the standard deviation of the returns. Suppose we forecast an alpha for a risky asset in the CAPM framework and this alpha is positive. We would probably want to add this asset to our portfolio, but the CAPM does not tell us how much of this asset we should buy. Adding too much would add too much specific risk, and adding too little would not maximise the returns on our portfolio. \n",
    "\n",
    "The first risk adjusted performance measure suggested is the *Treynor ratio*, given by:\n",
    "\n",
    "$$\n",
    "TR = \\frac{\\alpha}{\\beta},\n",
    "$$\n",
    "\n",
    "where $\\alpha$ and $\\beta$ are the intercept and slope coefficients in the CAPM framework. $\\beta$ is the sensitivity of the assets excess returns to changes in the market portfolio excess return and $\\alpha$ is the part of the assets excess return that is not explained by the market excess return.\n",
    "\n",
    "The optimal amount of the risky asset to add to our portfolio is given by another RAPM, called the *information ratio* or the *appraisal ratio*. It is given by:\n",
    "\n",
    "$$\n",
    "IR = \\frac{\\alpha}{\\sigma}.\n",
    "$$\n",
    "\n",
    "One should note that some argue that $\\alpha$ alone is a more appropriate measure than either $TR$ or $IR$ in ranking the performance. However, we shall not dwell on that here.\n",
    "\n",
    "Although these RAPMs are popular, they have only limited applicability. For example, implicit in the use of the Sharpe ratio is the assumption that investors preferences can all be represented by the exponential utility function, and that the returns are normally distributed. If one was to use the logarithmic utility function, it would not lead to the Sharpe ratio.\n"
   ]
  },
  {
   "cell_type": "markdown",
   "metadata": {},
   "source": [
    "#### Making decisions using Sharpe ratio ####\n",
    "\n",
    "Remember some of the axions of an utility function. If we have two different portfolios, $A$ and $B$, and both can return exact the same returns, but the probability of $A$ returning above a threshold $\\tau$ is greater than $B$, then one would always prefer $A$ to $B$. Formally, an investment $A$ strictly dominates $B$ iif:\n",
    "\n",
    "$$\n",
    "P_A(R > \\tau ) > P_B(R > \\tau),\n",
    "$$\n",
    "\n",
    "for any $\\tau$. $A$ only weakly dominates $B$ if the inequalities are relaxed from being strict to weak inequalities.\n",
    "\n",
    "One can construct examples of $A$ and $B$ such that the Sharpe ratio fails to identify $A$ as a preferred investment, for the case of weak dominance. For this reason, the Sharpe ratio alone is not a good metric to use as a basis for decisions about uncertain investments."
   ]
  },
  {
   "cell_type": "markdown",
   "metadata": {},
   "source": [
    "#### Adjusting Sharpe Ratio for Autocorrelation ####\n",
    "\n",
    "If one has access to historical data on returns, one can use it to estimate the Sharpe ratio of an asset, although one must also believe that historical data can tell us something about the future behavior of financial assets. If one accepts that statement, one can estimate the Sharpe ratio with:\n",
    "\n",
    "$$\n",
    "\\hat{\\lambda} = \\frac{\\bar{R}}{s},\n",
    "$$\n",
    "\n",
    "where $\\bar{R}$ is the sample mean, and $s$ is the sample standard deviation of the excess returns. One can also estimate:\n",
    "\n",
    "$$\n",
    "TR = \\frac{\\hat{\\alpha}}{\\hat{\\beta}},\\\\\n",
    "IR = \\frac{\\hat{\\alpha}}{s},\n",
    "$$\n",
    "\n",
    "where $\\hat{\\alpha}$ is the abnormal return, $\\hat{\\beta}$ is the systematic risk of the asset that is estimated from CAPM regression and $s$ is the sample estimate of the specific risk of the asset in this model.\n",
    "\n",
    "The sample estimates are often based on monthly, weekly, or daily data, but all quantities in the aforementioned equations are usually quoted in annualized terms.\n",
    "\n",
    "If portfolio returns are autocorrelated, which means that the data is correlated in time, then this standard deviation should be modified. if $h$ denotes the number of returns per year the annualized mean (excess) return is still $h$ times the mean return, but the standard deviation of the (excess) returns should be calculated using the scaling factor:\n",
    "\n",
    "$$\n",
    "\\sqrt{h + 2 Q/(1-Q)^2 ((h-1)(1-Q)-Q(1-Q^{h-1}))},\n",
    "$$\n",
    "\n",
    "where $Q$ is the first order autocorrelation of the (excess) returns."
   ]
  },
  {
   "cell_type": "markdown",
   "metadata": {},
   "source": [
    "#### Adjusting Sharpe ratio for Higher Moments ####\n",
    "\n",
    "The use of the Sharpe ratio is limited to investments where returns are normalld distributed, and investors have a minimal type of risk aversion to variance alone, as if their utility function is exponential.\n",
    "\n",
    "One adjustment to the Sharpe ratio assumes investors are averse not only to high volatility, but also to negative skewness and to positive excess kurtosis. It is estimated as:\n",
    "\n",
    "$$\n",
    "ASR_2 = \\hat{\\lambda} + (\\hat{\\tau}/6)\\hat{\\lambda}^2-(\\hat{k}/24)\\hat{\\lambda}^3,\n",
    "$$\n",
    "\n",
    "where $\\hat{\\lambda}$ is the estimate of the ordinary Sharpe ratio, and $\\hat{\\tau}$ and $\\hat{k}$ are estimated skewness and excess kurtosis of the rturns. The adjustment will tend to lower the Sharpe ratio if there is negative skewness and positive excess kurtosis in the returns."
   ]
  },
  {
   "cell_type": "markdown",
   "metadata": {},
   "source": [
    "#### Generalized Sharpe Ratio ####\n",
    "\n",
    "Another extension to the Sharpe ratio is the *generalized Sharpe ratio*. This assumes investors have an exponential utility function and that they are able to find the maximum utility that can be associated with any portfolio.\n",
    "\n",
    "Suppose only a small proportion of wealth is invested in a portfolio $P$ that has positive expected return and risk. The investors utility is likely to be greater if he increases his proportion of wealth in $P$ by a small amount, up to a certain point. At that point, the utility gained defines the maximum expected utility, $EU^*$, and this is used to define the generalized Sharpe ratio of the portfolio as:\n",
    "\n",
    "$$\n",
    "GSR = (-2 \\ln(-EU^*))^{1/2}.\n",
    "$$\n",
    "\n",
    "Although this performance measure has nice properties, it is more difficult to calcualte than others, as one can see it requires computation of the maximum expected utility. The expection is when the investor has an exponential utility function. Then, one  can use the fourth order Taylor approximation of the certain equivalent to approximate this."
   ]
  },
  {
   "cell_type": "markdown",
   "metadata": {},
   "source": [
    "#### Kappa Indices, Omega, and Sortino Ratio ####\n",
    "\n",
    "Another, more general form of RAPM is the *kappa indices*. The kappa index of order $\\alpha$ is given by:\n",
    "\n",
    "$$\n",
    "K_\\alpha(\\tau) = \\frac{(E(R)-\\tau)}{LPM_{\\alpha,\\tau}(R)^{1/\\alpha}},\n",
    "$$\n",
    "\n",
    "where $\\tau$ is some threshold return and $\\alpha > 0$, and $LPM_{\\alpha,\\tau}(R)$ is the *lower partial moment* defined by:\n",
    "\n",
    "$$\n",
    "LPM_{\\alpha,\\tau}(X) = E(|\\min (0,X-\\tau) |^\\alpha)^{1/\\alpha} = E(\\max (0,\\tau-X)^\\alpha)^{1/\\alpha}.\n",
    "$$\n",
    "\n",
    "As an example, the first order kappa index is the excess return divided by $E(\\max (0,\\tau - R))$.\n",
    "\n",
    "This first order kappa index is related to the *omega statistic*. Omega is the ratio of the expected return above the threshold to the expected return below the threshold,\n",
    "\n",
    "$$\n",
    "\\Omega(\\tau) = \\frac{E(\\max (0, R-\\tau))}{E(\\max (0,\\tau - R))}.\n",
    "$$\n",
    "\n",
    "The second order kappa index with threshold equal to risk free rate of return is called the *Sortino ratio*. \n",
    "\n",
    "All the kappa indices increase as the threshold decreases, and are negative when $\\tau > E(R)$, $0$ when $\\tau = E(R)$, and positive when $\\tau > E(R)$.\n",
    "\n",
    "This leads to a big debate on the appropriate choices of kappa index and thresholds. One cannot answer this question by linking the kappa index to standard utility functions, as any utility function associated with a kappa index will be very strange as it indicates that the investor does not care about gains past a certain threshold."
   ]
  }
 ],
 "metadata": {
  "language_info": {
   "name": "python"
  },
  "orig_nbformat": 4
 },
 "nbformat": 4,
 "nbformat_minor": 2
}
