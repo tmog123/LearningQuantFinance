{
 "cells": [
  {
   "attachments": {},
   "cell_type": "markdown",
   "metadata": {},
   "source": [
    "# Binomial Lattices #\n",
    "\n",
    "A binomial lattice/tree is a discretization of space in 2-D. A typical one used in finance has one axis being time, and the other axis being an asset price $S$. An example of one is given below:\n",
    "\n",
    "![Imagefromwikipedia](images/2_6_bin_lattice.png)\n",
    "\n",
    "These lattices/trees are used to visualize the motion of asset prices over time, when we know the transition probabilities of the price going up/down by a certain amount. In a binomial lattice we specify a transition probability $p$ as the probability of the price going up by a certain quantum, and $1-p$ as the probability of the price going down by a certain quantum. The up and down quantums need not be the same, however they are typically assumed to be constant multiples of the current price. This means that if the current price is $S$, the price can go up to $uS$ or down to $dS$, where $u > 1$ and $d < 1$, which is what is seen in the picture."
   ]
  },
  {
   "attachments": {},
   "cell_type": "markdown",
   "metadata": {},
   "source": [
    "For an example of how this is useful, let us consider a standard European call option on $S$, and aim to *delta hedge*. That is, if we buy the option we sell $\\delta$ units of $S$, where the value of $\\delta$ is chosen such that the portfolio's value remains the same whether the price goes up or down, ensuring the portfolio is risk free. If we let the option price be $f$, the portfolio's value is given as $f-\\delta S$. If the option has been hedged successfully, the portfolio's value must be equal following either an up or down move. In other words, $f_u -\\delta(uS) - f_d - \\delta(dS)$. This gives $\\delta = \\frac{f_u-f_d}{uS - dS}$.\n",
    "\n",
    "Now, assuming that the risk free rate of interest is $r$, no arbitrage arguments demands that the present value of the portfolio must be equal to the future value of the portfolio multiplied by $\\exp (-r \\triangle t)$, or in other words, $\\exp (-r \\triangle t) (f_u - \\delta(uS)) = f- \\delta S$. One can solve for $f$ to get:\n",
    "\n",
    "$$\n",
    "f = \\exp (-r \\triangle t) (p f_u - (1-p)f_d),\\\\\n",
    "p = \\frac{\\exp(r \\triangle t) - d}{u - d}.\n",
    "$$\n",
    "\n",
    "One can use this to derive the transition probabilities, and this allows us to calculate questions like how to approximate the price of an European put option with certain strike and maturity values.\n",
    "\n",
    "One can also use this to approximate the price of American options, which are options that can be exercised before the expiry date (assuming it is profitable to do so). The binomial lattice allows you to compare at each node the intrinsic value of the option (the value if it were to be exercised at that point in time) versus the option value if it was to be exercised later. The maximum of the two values is taken to be the option price at that node. One would then move backwards through the lattice, computing the option price at each node, until we obtain the value at the initial node.\n",
    "\n",
    "Let us assume we want to find the price of an European put vs an American put with similar strike $K$ and maturity, when the current price of the underlying is $S_0$. The proceedure goes as:\n",
    "\n",
    "1) Generate the lattice for the underlying stock price.\n",
    "\n",
    "2) Starting from the terminal nodes, where the price of the European put is given by the pay-off $\\max (K-S,0)$, work backwards through the tree, each time applying the no arbitrage argument to obtain $f$ given $f_u$ and $f_d$, $(f = \\exp (-r \\triangle t) (p f_u - (1-p)f_d))$. This gives us the lattice of the prices of the European put. The starting node will give us the price of the European put.\n",
    "\n",
    "3) Similar to step 2), but now we consider the American put. The American put price is given as $f = \\max ( \\exp (-r \\triangle t) (p f_u - (1-p)f_d),K-S) $. Work backwards again to get the starting price of the American put.\n",
    "\n"
   ]
  }
 ],
 "metadata": {
  "kernelspec": {
   "display_name": "Python 3",
   "language": "python",
   "name": "python3"
  },
  "language_info": {
   "name": "python",
   "version": "3.9.5 (tags/v3.9.5:0a7dcbd, May  3 2021, 17:27:52) [MSC v.1928 64 bit (AMD64)]"
  },
  "orig_nbformat": 4,
  "vscode": {
   "interpreter": {
    "hash": "1a26e4b7189bf03eb81522675f6e6c88684ba722547c6ad443d3676f771c332f"
   }
  }
 },
 "nbformat": 4,
 "nbformat_minor": 2
}
