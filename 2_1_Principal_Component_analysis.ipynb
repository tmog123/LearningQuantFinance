{
 "cells": [
  {
   "cell_type": "markdown",
   "metadata": {},
   "source": [
    "# Principal Component Analysis #\n",
    "\n",
    "Principal Component Analysis (PCA) is based on the spectral decomposition of a matrix. For a matrix $A$, we aim to find the decomposition $A = W \\Lambda W^\\dag$, where $\\Lambda$ is a diagonal matrix. This is useful as it gives us a transformation to an orthonormal basis for the matrix $A$. It is typically applied on a covariance or correlation matrix.\n",
    "\n",
    "While PCA is the most popular and straightforward orthogonalization technique, it is by no means the only method.\n",
    "\n",
    "Let us denote $X$ to be the $T \\times n$ matrix of data ($T$ data points, $n$ number of variables). We also denote the columns of $X$ as $\\{\\vec{x}_1,\\dots,\\vec{x}_n\\}$, where each vector $\\vec{x}_i$ is the vector of data for a explanatory variable. We assume each $\\vec{x}_i$ has zero mean.\n",
    "\n",
    "The sample variances and covariances of this data is summarized by the matrix\n",
    "\n",
    "$$\n",
    "V = T^{-1} X^\\dag X.\n",
    "$$\n",
    "\n",
    "If we normalize the data such that each $\\vec{x}_i$ has zero mean and variance 1, $V$ represents the correlation matrix of the returns.\n",
    "\n",
    "Sometimes, we might not have enough data ($T < n$), which causes $V$ to have some zero eigenvalues since it is singular. In such a scenario, a full set of $n$ principal components will not be able to be determined. Usually, this is still not too big of an issue since we only look at the first few most important principal components. When ($T > n$), $V$ is positive definite.\n",
    "\n",
    "We still have not defined what we mean by a principal component. A principal component is a linear combination of the vectors of $X$, where the weights are chosen such that:\n",
    "\n",
    "1) The principal components are uncorrelated with each other\n",
    "\n",
    "2) The first principal component explains the most variation, the second explains the greatest amount of the remaining variation, ect.\n",
    "\n",
    "We now describe the method to do so.\n",
    "\n",
    "Denote $\\Lambda$ as the diagonal matrix of the eigenvalues of $V$, and $W$ the orthogonal matrix of the corresponding eigenvectors of $V$. The eigenvalues (and corresponding eigenvectors) are ordered from largest to smallest, $\\lambda_1 \\geq \\lambda_2 \\dots \\geq \\lambda_n$. We define the matrix of principal components $P$ as:\n",
    "\n",
    "$$\n",
    "P = XW.\n",
    "$$\n",
    "\n",
    "Then the $i$ th principal component of $V$ is the $i$ th column of $P$. One realizes that the covariance matrix of the principal components $T^{-1}P^\\dag P = \\Lambda$. This diagonal matrix indicates that the principal components are uncorrelated, and the variance of the $i$ th principal component is $\\lambda_i$.\n",
    "\n",
    "Since $W^\\dag = W^{-1}$, $X=P W^\\dag$. In other words,\n",
    "\n",
    "$$\n",
    "\\vec{x}_i = w_{i1}\\vec{p}_1 + \\dots + w_{ik}\\vec{p}_k.\n",
    "$$\n",
    "\n",
    "Now, one can start to use the PCAs to approximate the input data. For example, if we only wish to use the first two principal components,\n",
    "\n",
    "$$\n",
    "\\vec{x}_i \\approx w_{i1}\\vec{p}_1 + w_{i2}\\vec{p}_2.\n",
    "$$\n",
    "\n",
    "This is typically written as:\n",
    "\n",
    "$$\n",
    "X \\approx P^* W^{*\\dag}.\n",
    "$$\n",
    "\n",
    "We will try out PCA on a small dataset, of 569 data points with 30 explanatory variables.\n"
   ]
  },
  {
   "cell_type": "code",
   "execution_count": 11,
   "metadata": {},
   "outputs": [],
   "source": [
    "from sklearn.datasets import load_breast_cancer\n",
    "import numpy as np\n",
    "from sklearn.preprocessing import StandardScaler\n",
    "from sklearn.decomposition import PCA\n",
    "import pandas as pd"
   ]
  },
  {
   "cell_type": "code",
   "execution_count": 4,
   "metadata": {},
   "outputs": [
    {
     "name": "stdout",
     "output_type": "stream",
     "text": [
      "(569, 30)\n",
      "['mean radius' 'mean texture' 'mean perimeter' 'mean area'\n",
      " 'mean smoothness' 'mean compactness' 'mean concavity'\n",
      " 'mean concave points' 'mean symmetry' 'mean fractal dimension'\n",
      " 'radius error' 'texture error' 'perimeter error' 'area error'\n",
      " 'smoothness error' 'compactness error' 'concavity error'\n",
      " 'concave points error' 'symmetry error' 'fractal dimension error'\n",
      " 'worst radius' 'worst texture' 'worst perimeter' 'worst area'\n",
      " 'worst smoothness' 'worst compactness' 'worst concavity'\n",
      " 'worst concave points' 'worst symmetry' 'worst fractal dimension']\n"
     ]
    }
   ],
   "source": [
    "breast = load_breast_cancer()\n",
    "breast_data = breast.data\n",
    "breast_labels = breast.target\n",
    "labels = np.reshape(breast_labels,(569,1))\n",
    "print(breast_data.shape)\n",
    "features = breast.feature_names\n",
    "print(features)"
   ]
  },
  {
   "cell_type": "code",
   "execution_count": 8,
   "metadata": {},
   "outputs": [
    {
     "name": "stdout",
     "output_type": "stream",
     "text": [
      "(569, 30)\n",
      "-6.118909323768877e-16 1.0\n"
     ]
    }
   ],
   "source": [
    "x = breast_data\n",
    "x = StandardScaler().fit_transform(x) # normalizing the features\n",
    "print(x.shape)\n",
    "print(np.mean(x),np.std(x))"
   ]
  },
  {
   "cell_type": "code",
   "execution_count": 10,
   "metadata": {},
   "outputs": [],
   "source": [
    "pca_breast = PCA(n_components=2)\n",
    "principalComponents_breast = pca_breast.fit_transform(x)"
   ]
  },
  {
   "cell_type": "code",
   "execution_count": 12,
   "metadata": {},
   "outputs": [
    {
     "data": {
      "text/html": [
       "<div>\n",
       "<style scoped>\n",
       "    .dataframe tbody tr th:only-of-type {\n",
       "        vertical-align: middle;\n",
       "    }\n",
       "\n",
       "    .dataframe tbody tr th {\n",
       "        vertical-align: top;\n",
       "    }\n",
       "\n",
       "    .dataframe thead th {\n",
       "        text-align: right;\n",
       "    }\n",
       "</style>\n",
       "<table border=\"1\" class=\"dataframe\">\n",
       "  <thead>\n",
       "    <tr style=\"text-align: right;\">\n",
       "      <th></th>\n",
       "      <th>principal component 1</th>\n",
       "      <th>principal component 2</th>\n",
       "    </tr>\n",
       "  </thead>\n",
       "  <tbody>\n",
       "    <tr>\n",
       "      <th>564</th>\n",
       "      <td>6.439315</td>\n",
       "      <td>-3.576817</td>\n",
       "    </tr>\n",
       "    <tr>\n",
       "      <th>565</th>\n",
       "      <td>3.793382</td>\n",
       "      <td>-3.584048</td>\n",
       "    </tr>\n",
       "    <tr>\n",
       "      <th>566</th>\n",
       "      <td>1.256179</td>\n",
       "      <td>-1.902297</td>\n",
       "    </tr>\n",
       "    <tr>\n",
       "      <th>567</th>\n",
       "      <td>10.374794</td>\n",
       "      <td>1.672010</td>\n",
       "    </tr>\n",
       "    <tr>\n",
       "      <th>568</th>\n",
       "      <td>-5.475243</td>\n",
       "      <td>-0.670637</td>\n",
       "    </tr>\n",
       "  </tbody>\n",
       "</table>\n",
       "</div>"
      ],
      "text/plain": [
       "     principal component 1  principal component 2\n",
       "564               6.439315              -3.576817\n",
       "565               3.793382              -3.584048\n",
       "566               1.256179              -1.902297\n",
       "567              10.374794               1.672010\n",
       "568              -5.475243              -0.670637"
      ]
     },
     "execution_count": 12,
     "metadata": {},
     "output_type": "execute_result"
    }
   ],
   "source": [
    "principal_breast_Df = pd.DataFrame(data = principalComponents_breast\n",
    "             , columns = ['principal component 1', 'principal component 2'])\n",
    "principal_breast_Df.tail()"
   ]
  },
  {
   "cell_type": "code",
   "execution_count": 13,
   "metadata": {},
   "outputs": [
    {
     "name": "stdout",
     "output_type": "stream",
     "text": [
      "Explained variation per principal component: [0.44272026 0.18971182]\n"
     ]
    }
   ],
   "source": [
    "print('Explained variation per principal component: {}'.format(pca_breast.explained_variance_ratio_))"
   ]
  }
 ],
 "metadata": {
  "interpreter": {
   "hash": "316e860a238c8892b0bc89caf8795812aa72b12f46a5ef18699767900e41eca6"
  },
  "kernelspec": {
   "display_name": "Python 3.9.1 ('base')",
   "language": "python",
   "name": "python3"
  },
  "language_info": {
   "codemirror_mode": {
    "name": "ipython",
    "version": 3
   },
   "file_extension": ".py",
   "mimetype": "text/x-python",
   "name": "python",
   "nbconvert_exporter": "python",
   "pygments_lexer": "ipython3",
   "version": "3.9.1"
  },
  "orig_nbformat": 4
 },
 "nbformat": 4,
 "nbformat_minor": 2
}
